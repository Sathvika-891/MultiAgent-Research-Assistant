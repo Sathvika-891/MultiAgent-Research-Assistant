{
 "cells": [
  {
   "cell_type": "code",
   "execution_count": 2,
   "metadata": {},
   "outputs": [],
   "source": [
    "from langchain_together import ChatTogether\n",
    "from dotenv import load_dotenv\n",
    "load_dotenv()\n",
    "llm = ChatTogether(\n",
    "    model=\"meta-llama/Llama-3-70b-chat-hf\",\n",
    ")"
   ]
  },
  {
   "cell_type": "code",
   "execution_count": 3,
   "metadata": {},
   "outputs": [],
   "source": [
    "def manager(state):\n",
    "    prompt=f\"\"\"You are an intelligent query classifier. Given a research query:{state[\"question\"]}, determine the most relevant retriever based on the domain:  \n",
    "    - If the query is related to **medicine, healthcare, or biology**, return **\"pubmed\"**.  \n",
    "    - If the query is related to **artificial intelligence, technology, or computer science**, return **\"arxiv\"**.  \n",
    "    - For all other general topics, return **\"global\"**.  \n",
    "\n",
    "    Respond with only one of the following:pubmed, arxiv, or global.\n",
    "    \"\"\"\n",
    "    res=llm.invoke(prompt)\n",
    "    return {\"query_type\":res.content.lower(),\"question\":state[\"question\"]}"
   ]
  },
  {
   "cell_type": "code",
   "execution_count": 4,
   "metadata": {},
   "outputs": [],
   "source": [
    "def summarise(state):\n",
    "    context=state[\"context\"]\n",
    "    prompt=f\"\"\"You are an expert research assistant. Based on the query: {state[\"question\"]},\n",
    "    generate a well-structured, concise response using only the information in the provided context:{context}.\n",
    "\n",
    "    Your response should:\n",
    "    1. Directly address the query with clarity and precision\n",
    "    2. Be organized in a logical, easy-to-follow format\n",
    "    3. Include only information present in the context\n",
    "    4. End with properly formatted reference links using markdown syntax ([text](url)) from the metadata in the context\n",
    "\n",
    "    Do not preface your response with phrases like \"Here is the summary\" or similar introductions.\n",
    "    Begin immediately with your substantive answer.\"\"\"\n",
    "\n",
    "    res=llm.invoke(prompt)\n",
    "    return {\"question\":state[\"question\"],\"context\":context,\"summary\":res.content}"
   ]
  },
  {
   "cell_type": "code",
   "execution_count": 5,
   "metadata": {},
   "outputs": [],
   "source": [
    "from langchain_community.retrievers import ArxivRetriever\n",
    "def get_arxiv_docs(state):\n",
    "    retriever = ArxivRetriever(\n",
    "        load_max_docs=5,\n",
    "        get_ful_documents=True,\n",
    "        )\n",
    "    \n",
    "    arxiv_docs=retriever.invoke(state[\"question\"])\n",
    "    \n",
    "    return {\"context\":arxiv_docs,\"question\":state[\"question\"]}\n"
   ]
  },
  {
   "cell_type": "code",
   "execution_count": 6,
   "metadata": {},
   "outputs": [],
   "source": [
    "from langchain_community.retrievers import PubMedRetriever\n",
    "def get_pubmed_docs(state):\n",
    "    retriever=PubMedRetriever()\n",
    "    pubmed_docs=retriever.invoke(state[\"question\"])\n",
    "    return {\"context\":pubmed_docs,\"question\":state[\"question\"]}"
   ]
  },
  {
   "cell_type": "code",
   "execution_count": 7,
   "metadata": {},
   "outputs": [],
   "source": [
    "def get_global_docs(state):\n",
    "    prompt=f\"\"\"You are an intelligent research retriever designed to fetch the most relevant documents from global sources.  \n",
    "\n",
    "    ### **Task:**  \n",
    "    Retrieve high-quality, relevant research papers, articles, or reports based on the following query:  \n",
    "    **{state[\"question\"]}**  \n",
    "\n",
    "    ### **Instructions:**  \n",
    "    - Search across multiple sources, including **Google Scholar, Semantic Scholar, ResearchGate, Wikipedia, and Open Access Journals**.  \n",
    "    - Prioritize documents that are **recent, peer-reviewed, and highly cited**.  \n",
    "    - Ensure diversity in sources to avoid biased information.  \n",
    "    - Return a structured list with **title, authors, publication date, summary, and URL** in **Markdown format**.  \n",
    "\n",
    "    ### **Output Format:**  \n",
    "    \"\"\"\n",
    "    res=llm.invoke(prompt)\n",
    "    return {\"question\":state[\"question\"],\"context\":res.content}"
   ]
  },
  {
   "cell_type": "code",
   "execution_count": 8,
   "metadata": {},
   "outputs": [],
   "source": [
    "from langgraph.graph import END\n",
    "def should_continue(state):\n",
    "    if state[\"query_type\"].lower().strip()==\"pubmed\":\n",
    "        return \"pubmed\"\n",
    "    elif state[\"query_type\"].lower().strip()==\"arxiv\":\n",
    "        return \"arxiv\"\n",
    "    else:\n",
    "        return \"global\""
   ]
  },
  {
   "cell_type": "code",
   "execution_count": 9,
   "metadata": {},
   "outputs": [],
   "source": [
    "def should_generate(state):\n",
    "    prompt=f\"\"\"You are an expert evaluator responsible for verifying the relevance of retrieved information.  \n",
    "    ### **Task:**  \n",
    "    Compare the given **question** and **context** to determine if the context contains relevant information to answer the question.  \n",
    "\n",
    "    ### **Input:**  \n",
    "    - **Question:** {state[\"question\"]}  \n",
    "    - **Context:** {state[\"context\"]}  \n",
    "\n",
    "    ### **Instructions:**  \n",
    "    - If the context provides sufficient and relevant information to answer the question, return **\"yes\"**.  \n",
    "    - If the context is irrelevant or does not sufficiently answer the question, return **\"rewrite\"** to indicate that the query should be refined for better retrieval.  \n",
    "\n",
    "    ### **Output:**  \n",
    "    Return only **\"yes\"** or **\"rewrite\"**, with no additional explanation.  \n",
    "    \"\"\"\n",
    "    res=llm.invoke(prompt)\n",
    "    if res.content.lower()==\"yes\":\n",
    "        return \"yes\"\n",
    "    else:\n",
    "        return \"rewrite\""
   ]
  },
  {
   "cell_type": "code",
   "execution_count": 10,
   "metadata": {},
   "outputs": [],
   "source": [
    "def rewrite(state):\n",
    "  question=state[\"question\"]\n",
    "  prompt=f\"\"\"You are an expert query rewriter specializing in optimizing search queries to retrieve the most relevant documents from a vector store.  \n",
    "\n",
    "    ### **Task:**  \n",
    "    Rewrite the given query **{question}** to improve retrieval accuracy while preserving its original intent.  \n",
    "\n",
    "    ### **Instructions:**  \n",
    "    - Use clear and precise language to enhance the query.  \n",
    "    - Incorporate relevant keywords to improve document matching.  \n",
    "    - Avoid unnecessary modifications that change the core meaning.  \n",
    "    - Ensure the query remains natural and contextually relevant.  \n",
    "\n",
    "    Return **only** the rewritten query.\n",
    "    \"\"\"\n",
    "  res=llm.invoke(prompt)\n",
    "  \n",
    "  return {\"question\":res.content}"
   ]
  },
  {
   "cell_type": "code",
   "execution_count": 11,
   "metadata": {},
   "outputs": [],
   "source": [
    "from typing_extensions import TypedDict\n",
    "class GraphState(TypedDict):\n",
    "    \"\"\"\n",
    "    Represents the state of our graph.\n",
    "    Attributes:\n",
    "        question: question\n",
    "        pubmed_docs:docs retrieved from pubmed\n",
    "        summary:summary of the response\n",
    "    \"\"\"\n",
    "    question: str\n",
    "    context:str\n",
    "    summary:str\n",
    "    query_type:str\n",
    "    "
   ]
  },
  {
   "cell_type": "code",
   "execution_count": 12,
   "metadata": {},
   "outputs": [],
   "source": [
    "from langgraph.graph import END, StateGraph, START\n",
    "workflow = StateGraph(GraphState)"
   ]
  },
  {
   "cell_type": "code",
   "execution_count": 13,
   "metadata": {},
   "outputs": [
    {
     "data": {
      "text/plain": [
       "<langgraph.graph.state.StateGraph at 0x1da0c01b550>"
      ]
     },
     "execution_count": 13,
     "metadata": {},
     "output_type": "execute_result"
    }
   ],
   "source": [
    "workflow.add_node(\"generate_pubmed\",get_pubmed_docs)\n",
    "workflow.add_node(\"generate_arxiv\",get_arxiv_docs)\n",
    "workflow.add_node(\"generate\",summarise)\n",
    "workflow.add_node(\"global_retrieve\",get_global_docs)\n",
    "workflow.add_node(\"manager\",manager)\n",
    "workflow.add_node(\"rewrite_query\",rewrite)\n",
    "workflow.add_edge(START,\"manager\")\n",
    "workflow.add_conditional_edges(\n",
    "    \"manager\",\n",
    "    should_continue,\n",
    "    {\n",
    "        \"pubmed\" :\"generate_pubmed\",\n",
    "        \"arxiv\":\"generate_arxiv\",\n",
    "        \"global\":\"global_retrieve\"\n",
    "    }\n",
    ")\n",
    "workflow.add_conditional_edges(\n",
    "    \"generate_pubmed\",\n",
    "    should_generate,\n",
    "    {\n",
    "        \"yes\":\"generate\",\n",
    "        \"rewrite\":\"rewrite_query\"\n",
    "    }\n",
    ")\n",
    "workflow.add_conditional_edges(\n",
    "    \"generate_arxiv\",\n",
    "    should_generate,\n",
    "    {\n",
    "        \"yes\":\"generate\",\n",
    "        \"rewrite\":\"rewrite_query\"\n",
    "    }\n",
    ")\n",
    "workflow.add_conditional_edges(\n",
    "    \"global_retrieve\",\n",
    "    should_generate,\n",
    "    {\n",
    "        \"yes\":\"generate\",\n",
    "        \"rewrite\":\"rewrite_query\"\n",
    "    }\n",
    ")\n",
    "workflow.add_edge(\"rewrite_query\",\"manager\")\n",
    "workflow.add_edge(\"generate\",END)"
   ]
  },
  {
   "cell_type": "code",
   "execution_count": 14,
   "metadata": {},
   "outputs": [],
   "source": [
    "app = workflow.compile()"
   ]
  },
  {
   "cell_type": "code",
   "execution_count": 15,
   "metadata": {},
   "outputs": [
    {
     "data": {
      "image/png": "[encoded data removed]",
      "text/plain": [
       "<langgraph.graph.state.CompiledStateGraph object at 0x000001DA0CDD38D0>"
      ]
     },
     "execution_count": 15,
     "metadata": {},
     "output_type": "execute_result"
    }
   ],
   "source": [
    "app"
   ]
  },
  {
   "cell_type": "code",
   "execution_count": 16,
   "metadata": {},
   "outputs": [
    {
     "name": "stdout",
     "output_type": "stream",
     "text": [
      "manager {'query_type': 'pubmed', 'question': 'hpk1 cancer cells'}\n",
      "generate_pubmed {'context': [Document(metadata={'uid': '39981246', 'Title': 'HPK1 kinase inhibitor: a sufficient approach to target HPK1 to modulate T cell activation in cancer immunotherapy compared with degraders.', 'Published': '2025-02-06', 'Copyright Information': 'Copyright © 2025 Wang, Zhu, Li, Xu, Wang, Zhang, Wang, Cai, Xing, Liu, Liu, Wang, Wang and Yuan.'}, page_content='BACKGROUND: Hematopoietic progenitor kinase 1 (HPK1) is a member of the mitogen-activated protein kinase kinase kinase kinase (MAP4K) family. It has been reported that HPK1 negatively regulates the activation of T cells. Several compounds have been developed and tested in clinical trials to target HPK1 for cancer immunotherapy. However, whether kinase inhibition is sufficient to eliminate the immunosuppressive function of HPK1, particularly in T cells, remains elusive.\\nMETHODS: In this study, genetic tools were used to edit the human T lymphocyte cell line Jurkat. The activation of HPK1-null cells, HPK1-wildtype cells and HPK1-kinase-inactive cells was compared through ectopic expression of HPK1 in HPK1 knockout cells or direct HPK1 mutation. Besides genetic validation, a series of compounds that selectively target HPK1 (with or without HPK1-degradation activity) were used to assess the potential scaffold function of HPK1 in regulation of human primary T cell activation and cytotoxic activity.\\nRESULTS AND CONCLUSION: Augmented T-cell receptor (TCR)-induced activation in HPK1-knockout Jurkat cells was inhibited by complementation of wildtype, but not kinase-dead HPK1. HPK1 K46E-knockin and K46*-knockin Jurkat cells showed comparable levels of enhanced TCR-induced activation compared with control HPK1-wildtype Jurkat cells. Similarly, HPK1 kinase inhibitor (Compound 1) and cereblon-based (CRBN-based) HPK1 degrader (Compound 2) elicited similar degrees of maximum TCR-induced activation in primary human peripheral blood T cells. In summary, the results of this study suggested that HPK1 kinase inhibitor may be sufficient for HPK1 targeting in T cell mediated cancer immunotherapy.'), Document(metadata={'uid': '39874881', 'Title': 'Design, Synthesis, and biological evaluation of 7H-Pyrrolo[2,3-d]pyrimidines as potent HPK1 kinase inhibitors.', 'Published': '2025-01-21', 'Copyright Information': 'Copyright © 2025 Elsevier Ltd. All rights reserved.'}, page_content='50\\nHematopoietic progenitor kinase 1 (HPK1) has emerged as a promising target for cancer immunotherapy due to its critical role as a negative regulator of T cell receptor (TCR) signaling. Despite this potential, no HPK1 inhibitors have been approved for cancer treatment, underscoring the need for structurally novel inhibitors. Herein, we describe the design, synthesis and biological evaluation of a series of potent HPK1 inhibitors based on our previously identified hit 9. Among them, compound 24 demonstrated strong HPK1 inhibition (IC of 10.1\\xa0nM) and effectively suppressed phosphorylation of the downstream protein SLP76. Notably, compound 24 exhibited enhanced potency in promoting IL-2 secretion in Jurkat T cells, reduced cellular toxicity, and improved liver microsomal stability compared to hit 9. Overall, this study provides a promising lead compound for further optimization as a candidate for cancer immunotherapy.'), Document(metadata={'uid': '39826501', 'Title': 'Discovery of 1,2,4-benzotriazine derivatives as new hematopoietic progenitor kinase 1 (HPK1) inhibitors.', 'Published': '2025-01-10', 'Copyright Information': 'Copyright © 2025. Published by Elsevier Inc.'}, page_content=\"['50', '50']\\nHematopoietic progenitor kinase 1 (HPK1), which negatively regulates immune signaling, has emerged as an attractive small-molecule drug target for tumor immunotherapy. Herein, we report the discovery of the 1,2,4-benzotriazine derivatives as new potent HPK1 inhibitors. Notably, compound A29 exhibited improved HPK1 inhibitory activity relative to compound 1 in the ADP-Glo kinase assay (IC\\xa0=\\xa02.70 and 13.6\\xa0nM, respectively). The pronounced inhibitory activity of A29 against downstream p-SLP76 in Jurkat T cells (IC\\xa0=\\xa08.1\\xa0nM) as well as the ability to induce the production of interleukin 2 (IL-2) in human peripheral blood mononuclear cells (PBMCs) confirmed its cellular target engagement and immune stimulatory effect. Consistently, this lead compound significantly enhanced T-cell killing ability against murine colon cancer cells CT26 or MC38 in a co-culture system. Furthermore, A29 was efficacious in a CT26 xenograft mouse model alone, and significantly enhanced the antitumor efficacy of an anti-PD-1 antibody. This work provides a promising lead for the development of effective HPK1 inhibitors for tumor immunotherapy.\")], 'question': 'hpk1 cancer cells'}\n",
      "generate {'question': 'hpk1 cancer cells', 'context': [Document(metadata={'uid': '39981246', 'Title': 'HPK1 kinase inhibitor: a sufficient approach to target HPK1 to modulate T cell activation in cancer immunotherapy compared with degraders.', 'Published': '2025-02-06', 'Copyright Information': 'Copyright © 2025 Wang, Zhu, Li, Xu, Wang, Zhang, Wang, Cai, Xing, Liu, Liu, Wang, Wang and Yuan.'}, page_content='BACKGROUND: Hematopoietic progenitor kinase 1 (HPK1) is a member of the mitogen-activated protein kinase kinase kinase kinase (MAP4K) family. It has been reported that HPK1 negatively regulates the activation of T cells. Several compounds have been developed and tested in clinical trials to target HPK1 for cancer immunotherapy. However, whether kinase inhibition is sufficient to eliminate the immunosuppressive function of HPK1, particularly in T cells, remains elusive.\\nMETHODS: In this study, genetic tools were used to edit the human T lymphocyte cell line Jurkat. The activation of HPK1-null cells, HPK1-wildtype cells and HPK1-kinase-inactive cells was compared through ectopic expression of HPK1 in HPK1 knockout cells or direct HPK1 mutation. Besides genetic validation, a series of compounds that selectively target HPK1 (with or without HPK1-degradation activity) were used to assess the potential scaffold function of HPK1 in regulation of human primary T cell activation and cytotoxic activity.\\nRESULTS AND CONCLUSION: Augmented T-cell receptor (TCR)-induced activation in HPK1-knockout Jurkat cells was inhibited by complementation of wildtype, but not kinase-dead HPK1. HPK1 K46E-knockin and K46*-knockin Jurkat cells showed comparable levels of enhanced TCR-induced activation compared with control HPK1-wildtype Jurkat cells. Similarly, HPK1 kinase inhibitor (Compound 1) and cereblon-based (CRBN-based) HPK1 degrader (Compound 2) elicited similar degrees of maximum TCR-induced activation in primary human peripheral blood T cells. In summary, the results of this study suggested that HPK1 kinase inhibitor may be sufficient for HPK1 targeting in T cell mediated cancer immunotherapy.'), Document(metadata={'uid': '39874881', 'Title': 'Design, Synthesis, and biological evaluation of 7H-Pyrrolo[2,3-d]pyrimidines as potent HPK1 kinase inhibitors.', 'Published': '2025-01-21', 'Copyright Information': 'Copyright © 2025 Elsevier Ltd. All rights reserved.'}, page_content='50\\nHematopoietic progenitor kinase 1 (HPK1) has emerged as a promising target for cancer immunotherapy due to its critical role as a negative regulator of T cell receptor (TCR) signaling. Despite this potential, no HPK1 inhibitors have been approved for cancer treatment, underscoring the need for structurally novel inhibitors. Herein, we describe the design, synthesis and biological evaluation of a series of potent HPK1 inhibitors based on our previously identified hit 9. Among them, compound 24 demonstrated strong HPK1 inhibition (IC of 10.1\\xa0nM) and effectively suppressed phosphorylation of the downstream protein SLP76. Notably, compound 24 exhibited enhanced potency in promoting IL-2 secretion in Jurkat T cells, reduced cellular toxicity, and improved liver microsomal stability compared to hit 9. Overall, this study provides a promising lead compound for further optimization as a candidate for cancer immunotherapy.'), Document(metadata={'uid': '39826501', 'Title': 'Discovery of 1,2,4-benzotriazine derivatives as new hematopoietic progenitor kinase 1 (HPK1) inhibitors.', 'Published': '2025-01-10', 'Copyright Information': 'Copyright © 2025. Published by Elsevier Inc.'}, page_content=\"['50', '50']\\nHematopoietic progenitor kinase 1 (HPK1), which negatively regulates immune signaling, has emerged as an attractive small-molecule drug target for tumor immunotherapy. Herein, we report the discovery of the 1,2,4-benzotriazine derivatives as new potent HPK1 inhibitors. Notably, compound A29 exhibited improved HPK1 inhibitory activity relative to compound 1 in the ADP-Glo kinase assay (IC\\xa0=\\xa02.70 and 13.6\\xa0nM, respectively). The pronounced inhibitory activity of A29 against downstream p-SLP76 in Jurkat T cells (IC\\xa0=\\xa08.1\\xa0nM) as well as the ability to induce the production of interleukin 2 (IL-2) in human peripheral blood mononuclear cells (PBMCs) confirmed its cellular target engagement and immune stimulatory effect. Consistently, this lead compound significantly enhanced T-cell killing ability against murine colon cancer cells CT26 or MC38 in a co-culture system. Furthermore, A29 was efficacious in a CT26 xenograft mouse model alone, and significantly enhanced the antitumor efficacy of an anti-PD-1 antibody. This work provides a promising lead for the development of effective HPK1 inhibitors for tumor immunotherapy.\")], 'summary': '**HPK1 in Cancer Cells**\\n\\nHematopoietic progenitor kinase 1 (HPK1) is a negative regulator of T cell activation, making it a promising target for cancer immunotherapy. Research has focused on developing compounds that target HPK1 to modulate T cell activation.\\n\\n**Role of HPK1 in T Cell Activation**\\n\\nHPK1 negatively regulates T cell receptor (TCR) signaling, and its inhibition can enhance T cell activation. Studies have shown that HPK1 knockout cells exhibit augmented TCR-induced activation, which can be inhibited by complementation with wildtype HPK1, but not kinase-dead HPK1.\\n\\n**HPK1 Kinase Inhibitors**\\n\\nSeveral HPK1 kinase inhibitors have been developed, including Compound 1, which has been shown to be sufficient for HPK1 targeting in T cell-mediated cancer immunotherapy. Other potent HPK1 inhibitors, such as compound 24 and compound A29, have been discovered and exhibit strong HPK1 inhibition, suppressed phosphorylation of downstream proteins, and enhanced potency in promoting IL-2 secretion in Jurkat T cells.\\n\\n**Implications for Cancer Immunotherapy**\\n\\nThe development of HPK1 kinase inhibitors provides a promising approach for cancer immunotherapy. These inhibitors can enhance T cell activation, leading to improved anti-tumor responses. Furthermore, HPK1 inhibitors have been shown to be efficacious in xenograft mouse models and can enhance the antitumor efficacy of anti-PD-1 antibodies.\\n\\n**References**\\n\\n[HPK1 kinase inhibitor: a sufficient approach to target HPK1 to modulate T cell activation in cancer immunotherapy compared with degraders.](https://doi.org/10.1016/j.uid.2025.02.06)\\n[Design, Synthesis, and biological evaluation of 7H-Pyrrolo[2,3-d]pyrimidines as potent HPK1 kinase inhibitors.](https://doi.org/10.1016/j.elsevier.2025.01.21)\\n[Discovery of 1,2,4-benzotriazine derivatives as new hematopoietic progenitor kinase 1 (HPK1) inhibitors.](https://doi.org/10.1016/j.elsevier.2025.01.10)'}\n"
     ]
    }
   ],
   "source": [
    "for chunk in app.stream({\"question\":\"hpk1 cancer cells\"}):\n",
    "    for k,v in chunk.items():\n",
    "        print(k,v)"
   ]
  },
  {
   "cell_type": "code",
   "execution_count": 18,
   "metadata": {},
   "outputs": [
    {
     "data": {
      "text/markdown": [
       "**HPK1 in Cancer Cells**\n",
       "\n",
       "Hematopoietic progenitor kinase 1 (HPK1) is a negative regulator of T cell activation, making it a promising target for cancer immunotherapy. Research has focused on developing compounds that target HPK1 to modulate T cell activation.\n",
       "\n",
       "**Role of HPK1 in T Cell Activation**\n",
       "\n",
       "HPK1 negatively regulates T cell receptor (TCR) signaling, and its inhibition can enhance T cell activation. Studies have shown that HPK1 knockout cells exhibit augmented TCR-induced activation, which can be inhibited by complementation with wildtype HPK1, but not kinase-dead HPK1.\n",
       "\n",
       "**HPK1 Kinase Inhibitors**\n",
       "\n",
       "Several HPK1 kinase inhibitors have been developed, including Compound 1, which has been shown to be sufficient for HPK1 targeting in T cell-mediated cancer immunotherapy. Other potent HPK1 inhibitors, such as compound 24 and compound A29, have been discovered and exhibit strong HPK1 inhibition, suppressed phosphorylation of downstream proteins, and enhanced potency in promoting IL-2 secretion in Jurkat T cells.\n",
       "\n",
       "**Implications for Cancer Immunotherapy**\n",
       "\n",
       "The development of HPK1 kinase inhibitors provides a promising approach for cancer immunotherapy. These inhibitors can enhance T cell activation, leading to improved anti-tumor responses. Furthermore, HPK1 inhibitors have been shown to be efficacious in xenograft mouse models and can enhance the antitumor efficacy of anti-PD-1 antibodies.\n",
       "\n",
       "**References**\n",
       "\n",
       "[HPK1 kinase inhibitor: a sufficient approach to target HPK1 to modulate T cell activation in cancer immunotherapy compared with degraders.](https://doi.org/10.1016/j.uid.2025.02.06)\n",
       "[Design, Synthesis, and biological evaluation of 7H-Pyrrolo[2,3-d]pyrimidines as potent HPK1 kinase inhibitors.](https://doi.org/10.1016/j.elsevier.2025.01.21)\n",
       "[Discovery of 1,2,4-benzotriazine derivatives as new hematopoietic progenitor kinase 1 (HPK1) inhibitors.](https://doi.org/10.1016/j.elsevier.2025.01.10)"
      ],
      "text/plain": [
       "<IPython.core.display.Markdown object>"
      ]
     },
     "execution_count": 18,
     "metadata": {},
     "output_type": "execute_result"
    }
   ],
   "source": [
    "from IPython.display import Markdown\n",
    "Markdown(v[\"summary\"])"
   ]
  },
  {
   "cell_type": "code",
   "execution_count": 19,
   "metadata": {},
   "outputs": [
    {
     "name": "stdout",
     "output_type": "stream",
     "text": [
      "manager {'query_type': 'after analyzing the query \"get the latest updates in llms\", i have determined that it is related to **artificial intelligence, technology, or computer science**, as llms stands for learning learning management system, which is a technology-based platform.\\n\\ntherefore, the most relevant retriever for this query is **\"arxiv\"**.', 'question': 'get the latest updates in LLMS'}\n",
      "global_retrieve {'question': 'get the latest updates in LLMS', 'context': \"Here is the list of latest updates in Learning Learning Management Systems (LLMS) in Markdown format:\\n\\n### Latest Updates in LLMS\\n#### 1. **Personalized Learning in LLMS: A Systematic Review**\\n* Authors: M. Al-Shammari, B. Al-Shammari, and A. Al-Shammari\\n* Publication Date: 2022\\n* Summary: This systematic review explores the current state of personalized learning in LLMS, highlighting the benefits, challenges, and future directions.\\n* URL: [https://doi.org/10.1016/j.ijhcs.2022.02.004](https://doi.org/10.1016/j.ijhcs.2022.02.004)\\n\\n#### 2. **LLMS Analytics: A Review of the Literature**\\n* Authors: J. R. Corbeil, K. A. Renzulli, and B. R. Barr\\n* Publication Date: 2022\\n* Summary: This review examines the current state of LLMS analytics, including the types of analytics used, benefits, and challenges, as well as future directions.\\n* URL: [https://www.sciencedirect.com/science/article/pii/S0360131522000446](https://www.sciencedirect.com/science/article/pii/S0360131522000446)\\n\\n#### 3. ** Gamification in LLMS: A Meta-Analysis**\\n* Authors: H. M. Al-Jamal, M. A. Al-Shammari, and A. M. Al-Shammari\\n* Publication Date: 2022\\n* Summary: This meta-analysis investigates the effectiveness of gamification in LLMS, highlighting the impact on student engagement, motivation, and learning outcomes.\\n* URL: [https://link.springer.com/article/10.1007/s11423-022-10044-6](https://link.springer.com/article/10.1007/s11423-022-10044-6)\\n\\n#### 4. **Artificial Intelligence in LLMS: A Survey**\\n* Authors: S. S. Rao, S. K. Singh, and R. K. Singh\\n* Publication Date: 2022\\n* Summary: This survey explores the current state of artificial intelligence in LLMS, including the applications, benefits, and challenges, as well as future directions.\\n* URL: [https://ieeexplore.ieee.org/document/9723459](https://ieeexplore.ieee.org/document/9723459)\\n\\n#### 5. **LLMS for Special Education: A Systematic Review**\\n* Authors: A. K. Singh, R. K. Singh, and S. K. Singh\\n* Publication Date: 2022\\n* Summary: This systematic review examines the current state of LLMS for special education, highlighting the benefits, challenges, and future directions.\\n* URL: [https://www.sciencedirect.com/science/article/pii/S0360131522000458](https://www.sciencedirect.com/science/article/pii/S0360131522000458)\\n\\nNote: The URLs provided are subject to change, and it's always a good idea to search for the article title or authors to find the most up-to-date version.\"}\n",
      "generate {'question': 'get the latest updates in LLMS', 'context': \"Here is the list of latest updates in Learning Learning Management Systems (LLMS) in Markdown format:\\n\\n### Latest Updates in LLMS\\n#### 1. **Personalized Learning in LLMS: A Systematic Review**\\n* Authors: M. Al-Shammari, B. Al-Shammari, and A. Al-Shammari\\n* Publication Date: 2022\\n* Summary: This systematic review explores the current state of personalized learning in LLMS, highlighting the benefits, challenges, and future directions.\\n* URL: [https://doi.org/10.1016/j.ijhcs.2022.02.004](https://doi.org/10.1016/j.ijhcs.2022.02.004)\\n\\n#### 2. **LLMS Analytics: A Review of the Literature**\\n* Authors: J. R. Corbeil, K. A. Renzulli, and B. R. Barr\\n* Publication Date: 2022\\n* Summary: This review examines the current state of LLMS analytics, including the types of analytics used, benefits, and challenges, as well as future directions.\\n* URL: [https://www.sciencedirect.com/science/article/pii/S0360131522000446](https://www.sciencedirect.com/science/article/pii/S0360131522000446)\\n\\n#### 3. ** Gamification in LLMS: A Meta-Analysis**\\n* Authors: H. M. Al-Jamal, M. A. Al-Shammari, and A. M. Al-Shammari\\n* Publication Date: 2022\\n* Summary: This meta-analysis investigates the effectiveness of gamification in LLMS, highlighting the impact on student engagement, motivation, and learning outcomes.\\n* URL: [https://link.springer.com/article/10.1007/s11423-022-10044-6](https://link.springer.com/article/10.1007/s11423-022-10044-6)\\n\\n#### 4. **Artificial Intelligence in LLMS: A Survey**\\n* Authors: S. S. Rao, S. K. Singh, and R. K. Singh\\n* Publication Date: 2022\\n* Summary: This survey explores the current state of artificial intelligence in LLMS, including the applications, benefits, and challenges, as well as future directions.\\n* URL: [https://ieeexplore.ieee.org/document/9723459](https://ieeexplore.ieee.org/document/9723459)\\n\\n#### 5. **LLMS for Special Education: A Systematic Review**\\n* Authors: A. K. Singh, R. K. Singh, and S. K. Singh\\n* Publication Date: 2022\\n* Summary: This systematic review examines the current state of LLMS for special education, highlighting the benefits, challenges, and future directions.\\n* URL: [https://www.sciencedirect.com/science/article/pii/S0360131522000458](https://www.sciencedirect.com/science/article/pii/S0360131522000458)\\n\\nNote: The URLs provided are subject to change, and it's always a good idea to search for the article title or authors to find the most up-to-date version.\", 'summary': 'Here are the latest updates in Learning Learning Management Systems (LLMS):\\n\\n**Personalized Learning in LLMS**: A systematic review by M. Al-Shammari, B. Al-Shammari, and A. Al-Shammari (2022) explores the current state of personalized learning in LLMS, highlighting benefits, challenges, and future directions. [https://doi.org/10.1016/j.ijhcs.2022.02.004](https://doi.org/10.1016/j.ijhcs.2022.02.004)\\n\\n**LLMS Analytics**: A review of the literature by J. R. Corbeil, K. A. Renzulli, and B. R. Barr (2022) examines the current state of LLMS analytics, including types of analytics used, benefits, and challenges, as well as future directions. [https://www.sciencedirect.com/science/article/pii/S0360131522000446](https://www.sciencedirect.com/science/article/pii/S0360131522000446)\\n\\n**Gamification in LLMS**: A meta-analysis by H. M. Al-Jamal, M. A. Al-Shammari, and A. M. Al-Shammari (2022) investigates the effectiveness of gamification in LLMS, highlighting the impact on student engagement, motivation, and learning outcomes. [https://link.springer.com/article/10.1007/s11423-022-10044-6](https://link.springer.com/article/10.1007/s11423-022-10044-6)\\n\\n**Artificial Intelligence in LLMS**: A survey by S. S. Rao, S. K. Singh, and R. K. Singh (2022) explores the current state of artificial intelligence in LLMS, including applications, benefits, and challenges, as well as future directions. [https://ieeexplore.ieee.org/document/9723459](https://ieeexplore.ieee.org/document/9723459)\\n\\n**LLMS for Special Education**: A systematic review by A. K. Singh, R. K. Singh, and S. K. Singh (2022) examines the current state of LLMS for special education, highlighting benefits, challenges, and future directions. [https://www.sciencedirect.com/science/article/pii/S0360131522000458](https://www.sciencedirect.com/science/article/pii/S0360131522000458)'}\n"
     ]
    }
   ],
   "source": [
    "for chunk in app.stream({\"question\":\"get the latest updates in LLMS\"}):\n",
    "    for k,v in chunk.items():\n",
    "        print(k,v)"
   ]
  },
  {
   "cell_type": "code",
   "execution_count": 21,
   "metadata": {},
   "outputs": [
    {
     "data": {
      "text/markdown": [
       "Here are the latest updates in Learning Learning Management Systems (LLMS):\n",
       "\n",
       "**Personalized Learning in LLMS**: A systematic review by M. Al-Shammari, B. Al-Shammari, and A. Al-Shammari (2022) explores the current state of personalized learning in LLMS, highlighting benefits, challenges, and future directions. [https://doi.org/10.1016/j.ijhcs.2022.02.004](https://doi.org/10.1016/j.ijhcs.2022.02.004)\n",
       "\n",
       "**LLMS Analytics**: A review of the literature by J. R. Corbeil, K. A. Renzulli, and B. R. Barr (2022) examines the current state of LLMS analytics, including types of analytics used, benefits, and challenges, as well as future directions. [https://www.sciencedirect.com/science/article/pii/S0360131522000446](https://www.sciencedirect.com/science/article/pii/S0360131522000446)\n",
       "\n",
       "**Gamification in LLMS**: A meta-analysis by H. M. Al-Jamal, M. A. Al-Shammari, and A. M. Al-Shammari (2022) investigates the effectiveness of gamification in LLMS, highlighting the impact on student engagement, motivation, and learning outcomes. [https://link.springer.com/article/10.1007/s11423-022-10044-6](https://link.springer.com/article/10.1007/s11423-022-10044-6)\n",
       "\n",
       "**Artificial Intelligence in LLMS**: A survey by S. S. Rao, S. K. Singh, and R. K. Singh (2022) explores the current state of artificial intelligence in LLMS, including applications, benefits, and challenges, as well as future directions. [https://ieeexplore.ieee.org/document/9723459](https://ieeexplore.ieee.org/document/9723459)\n",
       "\n",
       "**LLMS for Special Education**: A systematic review by A. K. Singh, R. K. Singh, and S. K. Singh (2022) examines the current state of LLMS for special education, highlighting benefits, challenges, and future directions. [https://www.sciencedirect.com/science/article/pii/S0360131522000458](https://www.sciencedirect.com/science/article/pii/S0360131522000458)"
      ],
      "text/plain": [
       "<IPython.core.display.Markdown object>"
      ]
     },
     "execution_count": 21,
     "metadata": {},
     "output_type": "execute_result"
    }
   ],
   "source": [
    "Markdown(str(v[\"summary\"]))"
   ]
  },
  {
   "cell_type": "code",
   "execution_count": 22,
   "metadata": {},
   "outputs": [
    {
     "name": "stdout",
     "output_type": "stream",
     "text": [
      "manager {'query_type': 'arxiv', 'question': 'what are AI Agents'}\n",
      "generate_arxiv {'context': [Document(metadata={'Entry ID': 'http://arxiv.org/abs/2404.04289v1', 'Published': datetime.date(2024, 4, 4), 'Title': 'Designing for Human-Agent Alignment: Understanding what humans want from their agents', 'Authors': 'Nitesh Goyal, Minsuk Chang, Michael Terry'}, page_content='Our ability to build autonomous agents that leverage Generative AI continues\\nto increase by the day. As builders and users of such agents it is unclear what\\nparameters we need to align on before the agents start performing tasks on our\\nbehalf. To discover these parameters, we ran a qualitative empirical research\\nstudy about designing agents that can negotiate during a fictional yet\\nrelatable task of selling a camera online. We found that for an agent to\\nperform the task successfully, humans/users and agents need to align over 6\\ndimensions: 1) Knowledge Schema Alignment 2) Autonomy and Agency Alignment 3)\\nOperational Alignment and Training 4) Reputational Heuristics Alignment 5)\\nEthics Alignment and 6) Human Engagement Alignment. These empirical findings\\nexpand previous work related to process and specification alignment and the\\nneed for values and safety in Human-AI interactions. Subsequently we discuss\\nthree design directions for designers who are imagining a world filled with\\nHuman-Agent collaborations.'), Document(metadata={'Entry ID': 'http://arxiv.org/abs/2410.01927v1', 'Published': datetime.date(2024, 10, 2), 'Title': 'Risk Alignment in Agentic AI Systems', 'Authors': 'Hayley Clatterbuck, Clinton Castro, Arvo Muñoz Morán'}, page_content=\"Agentic AIs $-$ AIs that are capable and permitted to undertake complex\\nactions with little supervision $-$ mark a new frontier in AI capabilities and\\nraise new questions about how to safely create and align such systems with\\nusers, developers, and society. Because agents' actions are influenced by their\\nattitudes toward risk, one key aspect of alignment concerns the risk profiles\\nof agentic AIs. Risk alignment will matter for user satisfaction and trust, but\\nit will also have important ramifications for society more broadly, especially\\nas agentic AIs become more autonomous and are allowed to control key aspects of\\nour lives. AIs with reckless attitudes toward risk (either because they are\\ncalibrated to reckless human users or are poorly designed) may pose significant\\nthreats. They might also open 'responsibility gaps' in which there is no agent\\nwho can be held accountable for harmful actions. What risk attitudes should\\nguide an agentic AI's decision-making? How might we design AI systems that are\\ncalibrated to the risk attitudes of their users? What guardrails, if any,\\nshould be placed on the range of permissible risk attitudes? What are the\\nethical considerations involved when designing systems that make risky\\ndecisions on behalf of others? We present three papers that bear on key\\nnormative and technical aspects of these questions.\"), Document(metadata={'Entry ID': 'http://arxiv.org/abs/2412.16241v1', 'Published': datetime.date(2024, 12, 19), 'Title': 'Agents Are Not Enough', 'Authors': 'Chirag Shah, Ryen W. White'}, page_content='In the midst of the growing integration of Artificial Intelligence (AI) into\\nvarious aspects of our lives, agents are experiencing a resurgence. These\\nautonomous programs that act on behalf of humans are neither new nor exclusive\\nto the mainstream AI movement. By exploring past incarnations of agents, we can\\nunderstand what has been done previously, what worked, and more importantly,\\nwhat did not pan out and why. This understanding lets us to examine what\\ndistinguishes the current focus on agents. While generative AI is appealing,\\nthis technology alone is insufficient to make new generations of agents more\\nsuccessful. To make the current wave of agents effective and sustainable, we\\nenvision an ecosystem that includes not only agents but also Sims, which\\nrepresent user preferences and behaviors, as well as Assistants, which directly\\ninteract with the user and coordinate the execution of user tasks with the help\\nof the agents.')], 'question': 'what are AI Agents'}\n",
      "generate {'question': 'what are AI Agents', 'context': [Document(metadata={'Entry ID': 'http://arxiv.org/abs/2404.04289v1', 'Published': datetime.date(2024, 4, 4), 'Title': 'Designing for Human-Agent Alignment: Understanding what humans want from their agents', 'Authors': 'Nitesh Goyal, Minsuk Chang, Michael Terry'}, page_content='Our ability to build autonomous agents that leverage Generative AI continues\\nto increase by the day. As builders and users of such agents it is unclear what\\nparameters we need to align on before the agents start performing tasks on our\\nbehalf. To discover these parameters, we ran a qualitative empirical research\\nstudy about designing agents that can negotiate during a fictional yet\\nrelatable task of selling a camera online. We found that for an agent to\\nperform the task successfully, humans/users and agents need to align over 6\\ndimensions: 1) Knowledge Schema Alignment 2) Autonomy and Agency Alignment 3)\\nOperational Alignment and Training 4) Reputational Heuristics Alignment 5)\\nEthics Alignment and 6) Human Engagement Alignment. These empirical findings\\nexpand previous work related to process and specification alignment and the\\nneed for values and safety in Human-AI interactions. Subsequently we discuss\\nthree design directions for designers who are imagining a world filled with\\nHuman-Agent collaborations.'), Document(metadata={'Entry ID': 'http://arxiv.org/abs/2410.01927v1', 'Published': datetime.date(2024, 10, 2), 'Title': 'Risk Alignment in Agentic AI Systems', 'Authors': 'Hayley Clatterbuck, Clinton Castro, Arvo Muñoz Morán'}, page_content=\"Agentic AIs $-$ AIs that are capable and permitted to undertake complex\\nactions with little supervision $-$ mark a new frontier in AI capabilities and\\nraise new questions about how to safely create and align such systems with\\nusers, developers, and society. Because agents' actions are influenced by their\\nattitudes toward risk, one key aspect of alignment concerns the risk profiles\\nof agentic AIs. Risk alignment will matter for user satisfaction and trust, but\\nit will also have important ramifications for society more broadly, especially\\nas agentic AIs become more autonomous and are allowed to control key aspects of\\nour lives. AIs with reckless attitudes toward risk (either because they are\\ncalibrated to reckless human users or are poorly designed) may pose significant\\nthreats. They might also open 'responsibility gaps' in which there is no agent\\nwho can be held accountable for harmful actions. What risk attitudes should\\nguide an agentic AI's decision-making? How might we design AI systems that are\\ncalibrated to the risk attitudes of their users? What guardrails, if any,\\nshould be placed on the range of permissible risk attitudes? What are the\\nethical considerations involved when designing systems that make risky\\ndecisions on behalf of others? We present three papers that bear on key\\nnormative and technical aspects of these questions.\"), Document(metadata={'Entry ID': 'http://arxiv.org/abs/2412.16241v1', 'Published': datetime.date(2024, 12, 19), 'Title': 'Agents Are Not Enough', 'Authors': 'Chirag Shah, Ryen W. White'}, page_content='In the midst of the growing integration of Artificial Intelligence (AI) into\\nvarious aspects of our lives, agents are experiencing a resurgence. These\\nautonomous programs that act on behalf of humans are neither new nor exclusive\\nto the mainstream AI movement. By exploring past incarnations of agents, we can\\nunderstand what has been done previously, what worked, and more importantly,\\nwhat did not pan out and why. This understanding lets us to examine what\\ndistinguishes the current focus on agents. While generative AI is appealing,\\nthis technology alone is insufficient to make new generations of agents more\\nsuccessful. To make the current wave of agents effective and sustainable, we\\nenvision an ecosystem that includes not only agents but also Sims, which\\nrepresent user preferences and behaviors, as well as Assistants, which directly\\ninteract with the user and coordinate the execution of user tasks with the help\\nof the agents.')], 'summary': \"**What are AI Agents?**\\n\\nAI Agents are autonomous programs that act on behalf of humans, leveraging Generative AI to perform complex tasks with little supervision. They are designed to undertake actions with varying levels of autonomy, influencing decision-making and risk-taking.\\n\\n**Key Characteristics of AI Agents:**\\n\\n1. **Autonomy**: AI Agents can operate with minimal human oversight, making decisions and taking actions independently.\\n2. **Complex Task Execution**: They are capable of performing complex tasks, such as negotiating during a fictional task of selling a camera online.\\n3. **Risk Profiles**: AI Agents' attitudes toward risk influence their decision-making, which can impact user satisfaction, trust, and societal implications.\\n\\n**Designing Effective AI Agents:**\\n\\nTo ensure successful Human-Agent collaboration, designers should consider aligning on six dimensions:\\n\\n1. **Knowledge Schema Alignment**\\n2. **Autonomy and Agency Alignment**\\n3. **Operational Alignment and Training**\\n4. **Reputational Heuristics Alignment**\\n5. **Ethics Alignment**\\n6. **Human Engagement Alignment**\\n\\n**References:**\\n\\n[Designing for Human-Agent Alignment: Understanding what humans want from their agents](http://arxiv.org/abs/2404.04289v1)\\n[Risk Alignment in Agentic AI Systems](http://arxiv.org/abs/2410.01927v1)\\n[Agents Are Not Enough](http://arxiv.org/abs/2412.16241v1)\"}\n"
     ]
    }
   ],
   "source": [
    "for chunk in app.stream({\"question\":\"what are AI Agents\"}):\n",
    "    for k,v in chunk.items():\n",
    "        print(k,v)"
   ]
  },
  {
   "cell_type": "code",
   "execution_count": 23,
   "metadata": {},
   "outputs": [
    {
     "data": {
      "text/markdown": [
       "**What are AI Agents?**\n",
       "\n",
       "AI Agents are autonomous programs that act on behalf of humans, leveraging Generative AI to perform complex tasks with little supervision. They are designed to undertake actions with varying levels of autonomy, influencing decision-making and risk-taking.\n",
       "\n",
       "**Key Characteristics of AI Agents:**\n",
       "\n",
       "1. **Autonomy**: AI Agents can operate with minimal human oversight, making decisions and taking actions independently.\n",
       "2. **Complex Task Execution**: They are capable of performing complex tasks, such as negotiating during a fictional task of selling a camera online.\n",
       "3. **Risk Profiles**: AI Agents' attitudes toward risk influence their decision-making, which can impact user satisfaction, trust, and societal implications.\n",
       "\n",
       "**Designing Effective AI Agents:**\n",
       "\n",
       "To ensure successful Human-Agent collaboration, designers should consider aligning on six dimensions:\n",
       "\n",
       "1. **Knowledge Schema Alignment**\n",
       "2. **Autonomy and Agency Alignment**\n",
       "3. **Operational Alignment and Training**\n",
       "4. **Reputational Heuristics Alignment**\n",
       "5. **Ethics Alignment**\n",
       "6. **Human Engagement Alignment**\n",
       "\n",
       "**References:**\n",
       "\n",
       "[Designing for Human-Agent Alignment: Understanding what humans want from their agents](http://arxiv.org/abs/2404.04289v1)\n",
       "[Risk Alignment in Agentic AI Systems](http://arxiv.org/abs/2410.01927v1)\n",
       "[Agents Are Not Enough](http://arxiv.org/abs/2412.16241v1)"
      ],
      "text/plain": [
       "<IPython.core.display.Markdown object>"
      ]
     },
     "execution_count": 23,
     "metadata": {},
     "output_type": "execute_result"
    }
   ],
   "source": [
    "Markdown(v[\"summary\"])"
   ]
  },
  {
   "cell_type": "code",
   "execution_count": null,
   "metadata": {},
   "outputs": [],
   "source": []
  }
 ],
 "metadata": {
  "kernelspec": {
   "display_name": "multiagent-research-assistant-qDnRD-w--py3.11",
   "language": "python",
   "name": "python3"
  },
  "language_info": {
   "codemirror_mode": {
    "name": "ipython",
    "version": 3
   },
   "file_extension": ".py",
   "mimetype": "text/x-python",
   "name": "python",
   "nbconvert_exporter": "python",
   "pygments_lexer": "ipython3",
   "version": "3.11.6"
  }
 },
 "nbformat": 4,
 "nbformat_minor": 2
}
